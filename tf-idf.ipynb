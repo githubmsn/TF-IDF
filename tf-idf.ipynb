{
 "cells": [
  {
   "cell_type": "markdown",
   "metadata": {},
   "source": [
    "Natural Language Processing (NLP) is a sub-field of artificial intelligence that deals understanding and processing human language. In light of new advancements in machine learning, many organizations have begun applying natural language processing for translation, chatbots and candidate filtering."
   ]
  },
  {
   "cell_type": "code",
   "execution_count": 1,
   "metadata": {},
   "outputs": [],
   "source": [
    "import pandas as pd\n",
    "from sklearn.feature_extraction.text import TfidfVectorizer"
   ]
  },
  {
   "cell_type": "code",
   "execution_count": 2,
   "metadata": {},
   "outputs": [],
   "source": [
    "documentA='the man went out for a walk'\n",
    "documentB='the man is watching a movie'\n",
    "documentC='the children sat around the fire'"
   ]
  },
  {
   "cell_type": "markdown",
   "metadata": {},
   "source": [
    "Machine learning algorithms cannot work with raw text directly. Rather, the text must be converted into vectors of numbers. In natural language processing, a common technique for extracting features from text is to place all of the words that occur in the text in a bucket. This aproach is called a bag of words model or BoW for short. It’s referred to as a “bag” of words because any information about the structure of the sentence is lost."
   ]
  },
  {
   "cell_type": "code",
   "execution_count": 3,
   "metadata": {},
   "outputs": [],
   "source": [
    "bagOfWordsA = documentA.split(' ')\n",
    "bagOfWordsB = documentB.split(' ')\n",
    "bagOfWordsC = documentC.split(' ')"
   ]
  },
  {
   "cell_type": "code",
   "execution_count": 4,
   "metadata": {},
   "outputs": [
    {
     "name": "stdout",
     "output_type": "stream",
     "text": [
      "['the', 'man', 'went', 'out', 'for', 'a', 'walk']\n"
     ]
    }
   ],
   "source": [
    "print(bagOfWordsA)"
   ]
  },
  {
   "cell_type": "code",
   "execution_count": 5,
   "metadata": {},
   "outputs": [],
   "source": [
    "uniqueWords = set(bagOfWordsA).union(set(bagOfWordsB)).union(set(bagOfWordsC))"
   ]
  },
  {
   "cell_type": "code",
   "execution_count": 7,
   "metadata": {},
   "outputs": [
    {
     "name": "stdout",
     "output_type": "stream",
     "text": [
      "{'watching', 'the', 'children', 'around', 'went', 'movie', 'is', 'a', 'walk', 'out', 'man', 'fire', 'sat', 'for'}\n"
     ]
    }
   ],
   "source": [
    "print(uniqueWords)"
   ]
  },
  {
   "cell_type": "code",
   "execution_count": 9,
   "metadata": {},
   "outputs": [],
   "source": [
    "numOfWordsA = dict.fromkeys(uniqueWords,0)\n",
    "for word in bagOfWordsA:\n",
    "    numOfWordsA[word] += 1\n",
    "numOfWordsB = dict.fromkeys(uniqueWords,0)\n",
    "for word in bagOfWordsB:\n",
    "    numOfWordsB[word] += 1\n",
    "numOfWordsC = dict.fromkeys(uniqueWords,0)\n",
    "for word in bagOfWordsC:\n",
    "    numOfWordsC[word] += 1"
   ]
  },
  {
   "cell_type": "markdown",
   "metadata": {},
   "source": [
    "Another problem with the bag of words approach is that it doesn’t account for noise. In other words, certain words are used to formulate sentences but do not add any semantic meaning to the text. For example, the most commonly used word in the english language is the which represents 7% of all words written or spoken. You couldn’t make deduce anything about a text given the fact that it contains the word the. On the other hand, words like good and awesome could be used to determine whether a rating was positive or not.\n",
    "\n",
    "In natural language processing, useless words are referred to as stop words. The python natural language toolkit library provides a list of english stop words."
   ]
  },
  {
   "cell_type": "code",
   "execution_count": 10,
   "metadata": {},
   "outputs": [
    {
     "data": {
      "text/plain": [
       "['i',\n",
       " 'me',\n",
       " 'my',\n",
       " 'myself',\n",
       " 'we',\n",
       " 'our',\n",
       " 'ours',\n",
       " 'ourselves',\n",
       " 'you',\n",
       " \"you're\",\n",
       " \"you've\",\n",
       " \"you'll\",\n",
       " \"you'd\",\n",
       " 'your',\n",
       " 'yours',\n",
       " 'yourself',\n",
       " 'yourselves',\n",
       " 'he',\n",
       " 'him',\n",
       " 'his',\n",
       " 'himself',\n",
       " 'she',\n",
       " \"she's\",\n",
       " 'her',\n",
       " 'hers',\n",
       " 'herself',\n",
       " 'it',\n",
       " \"it's\",\n",
       " 'its',\n",
       " 'itself',\n",
       " 'they',\n",
       " 'them',\n",
       " 'their',\n",
       " 'theirs',\n",
       " 'themselves',\n",
       " 'what',\n",
       " 'which',\n",
       " 'who',\n",
       " 'whom',\n",
       " 'this',\n",
       " 'that',\n",
       " \"that'll\",\n",
       " 'these',\n",
       " 'those',\n",
       " 'am',\n",
       " 'is',\n",
       " 'are',\n",
       " 'was',\n",
       " 'were',\n",
       " 'be',\n",
       " 'been',\n",
       " 'being',\n",
       " 'have',\n",
       " 'has',\n",
       " 'had',\n",
       " 'having',\n",
       " 'do',\n",
       " 'does',\n",
       " 'did',\n",
       " 'doing',\n",
       " 'a',\n",
       " 'an',\n",
       " 'the',\n",
       " 'and',\n",
       " 'but',\n",
       " 'if',\n",
       " 'or',\n",
       " 'because',\n",
       " 'as',\n",
       " 'until',\n",
       " 'while',\n",
       " 'of',\n",
       " 'at',\n",
       " 'by',\n",
       " 'for',\n",
       " 'with',\n",
       " 'about',\n",
       " 'against',\n",
       " 'between',\n",
       " 'into',\n",
       " 'through',\n",
       " 'during',\n",
       " 'before',\n",
       " 'after',\n",
       " 'above',\n",
       " 'below',\n",
       " 'to',\n",
       " 'from',\n",
       " 'up',\n",
       " 'down',\n",
       " 'in',\n",
       " 'out',\n",
       " 'on',\n",
       " 'off',\n",
       " 'over',\n",
       " 'under',\n",
       " 'again',\n",
       " 'further',\n",
       " 'then',\n",
       " 'once',\n",
       " 'here',\n",
       " 'there',\n",
       " 'when',\n",
       " 'where',\n",
       " 'why',\n",
       " 'how',\n",
       " 'all',\n",
       " 'any',\n",
       " 'both',\n",
       " 'each',\n",
       " 'few',\n",
       " 'more',\n",
       " 'most',\n",
       " 'other',\n",
       " 'some',\n",
       " 'such',\n",
       " 'no',\n",
       " 'nor',\n",
       " 'not',\n",
       " 'only',\n",
       " 'own',\n",
       " 'same',\n",
       " 'so',\n",
       " 'than',\n",
       " 'too',\n",
       " 'very',\n",
       " 's',\n",
       " 't',\n",
       " 'can',\n",
       " 'will',\n",
       " 'just',\n",
       " 'don',\n",
       " \"don't\",\n",
       " 'should',\n",
       " \"should've\",\n",
       " 'now',\n",
       " 'd',\n",
       " 'll',\n",
       " 'm',\n",
       " 'o',\n",
       " 're',\n",
       " 've',\n",
       " 'y',\n",
       " 'ain',\n",
       " 'aren',\n",
       " \"aren't\",\n",
       " 'couldn',\n",
       " \"couldn't\",\n",
       " 'didn',\n",
       " \"didn't\",\n",
       " 'doesn',\n",
       " \"doesn't\",\n",
       " 'hadn',\n",
       " \"hadn't\",\n",
       " 'hasn',\n",
       " \"hasn't\",\n",
       " 'haven',\n",
       " \"haven't\",\n",
       " 'isn',\n",
       " \"isn't\",\n",
       " 'ma',\n",
       " 'mightn',\n",
       " \"mightn't\",\n",
       " 'mustn',\n",
       " \"mustn't\",\n",
       " 'needn',\n",
       " \"needn't\",\n",
       " 'shan',\n",
       " \"shan't\",\n",
       " 'shouldn',\n",
       " \"shouldn't\",\n",
       " 'wasn',\n",
       " \"wasn't\",\n",
       " 'weren',\n",
       " \"weren't\",\n",
       " 'won',\n",
       " \"won't\",\n",
       " 'wouldn',\n",
       " \"wouldn't\"]"
      ]
     },
     "execution_count": 10,
     "metadata": {},
     "output_type": "execute_result"
    }
   ],
   "source": [
    "from nltk.corpus import stopwords\n",
    "stopwords.words('english')"
   ]
  },
  {
   "attachments": {},
   "cell_type": "markdown",
   "metadata": {},
   "source": [
    "# Term Frequency (TF)\n",
    "The number of times a word appears in a document divded by the total number of words in the document. Every document has its own term frequency.\n"
   ]
  },
  {
   "cell_type": "code",
   "execution_count": 12,
   "metadata": {},
   "outputs": [],
   "source": [
    "def computeTF(wordDict,bagOfWords):\n",
    "    tfidf = {}\n",
    "    bagOfWordsCount = len(bagOfWords)\n",
    "    for word,count in wordDict.items():\n",
    "        tfidf[word] = count/float(bagOfWordsCount)\n",
    "    return tfidf"
   ]
  },
  {
   "cell_type": "code",
   "execution_count": 13,
   "metadata": {},
   "outputs": [],
   "source": [
    "tfA = computeTF(numOfWordsA,bagOfWordsA)\n",
    "tfB = computeTF(numOfWordsB,bagOfWordsB)\n",
    "tfC = computeTF(numOfWordsC,bagOfWordsC)"
   ]
  },
  {
   "cell_type": "code",
   "execution_count": 14,
   "metadata": {},
   "outputs": [
    {
     "data": {
      "text/plain": [
       "{'watching': 0.0,\n",
       " 'the': 0.14285714285714285,\n",
       " 'children': 0.0,\n",
       " 'around': 0.0,\n",
       " 'went': 0.14285714285714285,\n",
       " 'movie': 0.0,\n",
       " 'is': 0.0,\n",
       " 'a': 0.14285714285714285,\n",
       " 'walk': 0.14285714285714285,\n",
       " 'out': 0.14285714285714285,\n",
       " 'man': 0.14285714285714285,\n",
       " 'fire': 0.0,\n",
       " 'sat': 0.0,\n",
       " 'for': 0.14285714285714285}"
      ]
     },
     "execution_count": 14,
     "metadata": {},
     "output_type": "execute_result"
    }
   ],
   "source": [
    "tfA"
   ]
  },
  {
   "cell_type": "markdown",
   "metadata": {},
   "source": [
    "# Inverse Data Frequency (IDF)\n",
    "The log of the number of documents divided by the number of documents that contain the word w. Inverse data frequency determines the weight of rare words across all"
   ]
  },
  {
   "cell_type": "code",
   "execution_count": 19,
   "metadata": {},
   "outputs": [],
   "source": [
    "def computeIdf(documents):\n",
    "    import math\n",
    "    N = len(documents)\n",
    "      \n",
    "    idfDict = dict.fromkeys(documents[0].keys(),0)\n",
    "    for document in documents:\n",
    "        for word,val in document.items():\n",
    "            if val > 0:\n",
    "                idfDict[word] += 1\n",
    "                \n",
    "    for word, val in idfDict.items():\n",
    "        idfDict[word] = math.log(N/float(val))\n",
    "    return idfDict"
   ]
  },
  {
   "cell_type": "code",
   "execution_count": 20,
   "metadata": {},
   "outputs": [],
   "source": [
    "idf = computeIdf([numOfWordsA,numOfWordsB,numOfWordsC])"
   ]
  },
  {
   "cell_type": "code",
   "execution_count": 21,
   "metadata": {},
   "outputs": [
    {
     "name": "stdout",
     "output_type": "stream",
     "text": [
      "{'watching': 1.0986122886681098, 'the': 0.0, 'children': 1.0986122886681098, 'around': 1.0986122886681098, 'went': 1.0986122886681098, 'movie': 1.0986122886681098, 'is': 1.0986122886681098, 'a': 0.4054651081081644, 'walk': 1.0986122886681098, 'out': 1.0986122886681098, 'man': 0.4054651081081644, 'fire': 1.0986122886681098, 'sat': 1.0986122886681098, 'for': 1.0986122886681098}\n"
     ]
    }
   ],
   "source": [
    "print(idf)"
   ]
  },
  {
   "cell_type": "code",
   "execution_count": 24,
   "metadata": {},
   "outputs": [],
   "source": [
    "def computeTFIDF(tfBagOfWords,idfs):\n",
    "    tfidf = {}\n",
    "    for word,val in tfBagOfWords.items():\n",
    "        tfidf[word] = val*idf[word]\n",
    "    return tfidf"
   ]
  },
  {
   "cell_type": "code",
   "execution_count": 27,
   "metadata": {},
   "outputs": [],
   "source": [
    "tfidfA = computeTFIDF(tfA,idf)\n",
    "tfidfB = computeTFIDF(tfB,idf)\n",
    "tfidfC = computeTFIDF(tfC,idf)\n",
    "df = pd.DataFrame([tfidfA,tfidfB,tfidfC])"
   ]
  },
  {
   "cell_type": "code",
   "execution_count": 28,
   "metadata": {},
   "outputs": [
    {
     "name": "stdout",
     "output_type": "stream",
     "text": [
      "   watching  the  children    around      went     movie        is         a  \\\n",
      "0  0.000000  0.0  0.000000  0.000000  0.156945  0.000000  0.000000  0.057924   \n",
      "1  0.183102  0.0  0.000000  0.000000  0.000000  0.183102  0.183102  0.067578   \n",
      "2  0.000000  0.0  0.183102  0.183102  0.000000  0.000000  0.000000  0.000000   \n",
      "\n",
      "       walk       out       man      fire       sat       for  \n",
      "0  0.156945  0.156945  0.057924  0.000000  0.000000  0.156945  \n",
      "1  0.000000  0.000000  0.067578  0.000000  0.000000  0.000000  \n",
      "2  0.000000  0.000000  0.000000  0.183102  0.183102  0.000000  \n"
     ]
    }
   ],
   "source": [
    "print(df)"
   ]
  },
  {
   "cell_type": "code",
   "execution_count": 29,
   "metadata": {},
   "outputs": [],
   "source": [
    "vectorizer = TfidfVectorizer()\n",
    "vectors = vectorizer.fit_transform([documentA,documentB,documentC])"
   ]
  },
  {
   "cell_type": "code",
   "execution_count": 30,
   "metadata": {},
   "outputs": [
    {
     "name": "stdout",
     "output_type": "stream",
     "text": [
      "['around', 'children', 'fire', 'for', 'is', 'man', 'movie', 'out', 'sat', 'the', 'walk', 'watching', 'went']\n"
     ]
    }
   ],
   "source": [
    "feature_names = vectorizer.get_feature_names()\n",
    "print(feature_names)"
   ]
  },
  {
   "cell_type": "code",
   "execution_count": 31,
   "metadata": {},
   "outputs": [
    {
     "name": "stdout",
     "output_type": "stream",
     "text": [
      "[[0.         0.         0.         0.45050407 0.         0.34261996\n",
      "  0.         0.45050407 0.         0.26607496 0.45050407 0.\n",
      "  0.45050407]\n",
      " [0.         0.         0.         0.         0.50461134 0.38376993\n",
      "  0.50461134 0.         0.         0.29803159 0.         0.50461134\n",
      "  0.        ]\n",
      " [0.4305185  0.4305185  0.4305185  0.         0.         0.\n",
      "  0.         0.         0.4305185  0.50854232 0.         0.\n",
      "  0.        ]]\n",
      "  (0, 10)\t0.450504072643198\n",
      "  (0, 3)\t0.450504072643198\n",
      "  (0, 7)\t0.450504072643198\n",
      "  (0, 12)\t0.450504072643198\n",
      "  (0, 5)\t0.3426199591918006\n",
      "  (0, 9)\t0.2660749625405929\n",
      "  (1, 6)\t0.5046113401371842\n",
      "  (1, 11)\t0.5046113401371842\n",
      "  (1, 4)\t0.5046113401371842\n",
      "  (1, 5)\t0.3837699307603192\n",
      "  (1, 9)\t0.2980315863446099\n",
      "  (2, 2)\t0.4305184979719882\n",
      "  (2, 0)\t0.4305184979719882\n",
      "  (2, 8)\t0.4305184979719882\n",
      "  (2, 1)\t0.4305184979719882\n",
      "  (2, 9)\t0.5085423203783267\n"
     ]
    }
   ],
   "source": [
    "dense = vectors.todense()\n",
    "print(dense)\n",
    "print(vectors)"
   ]
  },
  {
   "cell_type": "code",
   "execution_count": 32,
   "metadata": {},
   "outputs": [],
   "source": [
    "denselist = dense.tolist()"
   ]
  },
  {
   "cell_type": "code",
   "execution_count": 33,
   "metadata": {},
   "outputs": [
    {
     "name": "stdout",
     "output_type": "stream",
     "text": [
      "[[0.0, 0.0, 0.0, 0.450504072643198, 0.0, 0.3426199591918006, 0.0, 0.450504072643198, 0.0, 0.2660749625405929, 0.450504072643198, 0.0, 0.450504072643198], [0.0, 0.0, 0.0, 0.0, 0.5046113401371842, 0.3837699307603192, 0.5046113401371842, 0.0, 0.0, 0.2980315863446099, 0.0, 0.5046113401371842, 0.0], [0.4305184979719882, 0.4305184979719882, 0.4305184979719882, 0.0, 0.0, 0.0, 0.0, 0.0, 0.4305184979719882, 0.5085423203783267, 0.0, 0.0, 0.0]]\n"
     ]
    }
   ],
   "source": [
    "print(denselist)"
   ]
  },
  {
   "cell_type": "code",
   "execution_count": 34,
   "metadata": {},
   "outputs": [
    {
     "name": "stdout",
     "output_type": "stream",
     "text": [
      "     around  children      fire       for        is      man     movie  \\\n",
      "0  0.000000  0.000000  0.000000  0.450504  0.000000  0.34262  0.000000   \n",
      "1  0.000000  0.000000  0.000000  0.000000  0.504611  0.38377  0.504611   \n",
      "2  0.430518  0.430518  0.430518  0.000000  0.000000  0.00000  0.000000   \n",
      "\n",
      "        out       sat       the      walk  watching      went  \n",
      "0  0.450504  0.000000  0.266075  0.450504  0.000000  0.450504  \n",
      "1  0.000000  0.000000  0.298032  0.000000  0.504611  0.000000  \n",
      "2  0.000000  0.430518  0.508542  0.000000  0.000000  0.000000  \n"
     ]
    }
   ],
   "source": [
    "df_tfidf = pd.DataFrame(denselist,columns=feature_names)\n",
    "print(df_tfidf)"
   ]
  },
  {
   "cell_type": "code",
   "execution_count": null,
   "metadata": {},
   "outputs": [],
   "source": []
  }
 ],
 "metadata": {
  "kernelspec": {
   "display_name": "Python 3",
   "language": "python",
   "name": "python3"
  },
  "language_info": {
   "codemirror_mode": {
    "name": "ipython",
    "version": 3
   },
   "file_extension": ".py",
   "mimetype": "text/x-python",
   "name": "python",
   "nbconvert_exporter": "python",
   "pygments_lexer": "ipython3",
   "version": "3.8.5"
  }
 },
 "nbformat": 4,
 "nbformat_minor": 4
}
